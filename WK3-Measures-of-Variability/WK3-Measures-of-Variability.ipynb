{
 "cells": [
  {
   "cell_type": "markdown",
   "metadata": {},
   "source": [
    "## WK3 Measures of Variability <hr  style= \"border: 2px solid pink\">"
   ]
  }
 ],
 "metadata": {
  "language_info": {
   "name": "python"
  }
 },
 "nbformat": 4,
 "nbformat_minor": 2
}
